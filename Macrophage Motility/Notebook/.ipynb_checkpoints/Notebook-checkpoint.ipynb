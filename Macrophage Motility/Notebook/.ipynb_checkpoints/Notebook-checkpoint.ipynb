{
 "cells": [
  {
   "cell_type": "code",
   "execution_count": 2,
   "metadata": {},
   "outputs": [
    {
     "name": "stdout",
     "output_type": "stream",
     "text": [
      "Wookie\n",
      "V(microns/hour)F10L0     14.113846\n",
      "V(microns/hour)F10L5     19.526582\n",
      "V(microns/hour)F10L10    27.869822\n",
      "V(microns/hour)F10L30    33.886957\n",
      "dtype: float64\n",
      "V(microns/hour)L10F0     22.572581\n",
      "V(microns/hour)L10F5     25.133793\n",
      "V(microns/hour)L10F10    27.463866\n",
      "V(microns/hour)L10F30    27.379487\n",
      "dtype: float64\n"
     ]
    },
    {
     "data": {
      "text/plain": [
       "<Figure size 640x480 with 1 Axes>"
      ]
     },
     "metadata": {},
     "output_type": "display_data"
    },
    {
     "name": "stdout",
     "output_type": "stream",
     "text": [
      "PersistenceF10L0     0.297877\n",
      "PersistenceF10L5     0.339873\n",
      "PersistenceF10L10    0.220402\n",
      "PersistenceF10L30    0.186600\n",
      "dtype: float64\n",
      "PersistenceL10F0     0.210952\n",
      "PersistenceL10F5     0.219517\n",
      "PersistenceL10F10    0.198866\n",
      "PersistenceL10F30    0.206137\n",
      "dtype: float64\n"
     ]
    },
    {
     "data": {
      "text/plain": [
       "<Figure size 640x480 with 1 Axes>"
      ]
     },
     "metadata": {},
     "output_type": "display_data"
    },
    {
     "data": {
      "text/plain": [
       "<Figure size 640x480 with 1 Axes>"
      ]
     },
     "metadata": {},
     "output_type": "display_data"
    }
   ],
   "source": [
    "print(\"Wookie\")\n",
    "import pandas as pd\n",
    "import numpy as np\n",
    "\n",
    "data = pd.read_csv(\"8.1.19 Competition Experiment (0, 5, 10, 30 ug).csv\")\n",
    "data = data.dropna(how='all', axis='columns')\n",
    "\n",
    "#removes empty columns from data file and creates pandas file\n",
    "\n",
    "data.columns=['F10L0 Cell', 'V(microns/min)F10L0', 'V(microns/hour)F10L0', 'PersistenceF10L0', \n",
    "              'F10L5 Cell', 'V(microns/min)F10L5', 'V(microns/hour)F10L5', 'PersistenceF10L5',\n",
    "              'F10L10 Cell', 'V(microns/min)F10L10', 'V(microns/hour)F10L10', 'PersistenceF10L10',\n",
    "              'F10L30 Cell', 'V(microns/min)F10L30', 'V(microns/hour)F10L30', 'PersistenceF10L30',\n",
    "              'L10F0 Cell', 'V(microns/min)L10F0', 'V(microns/hour)L10F0', 'PersistenceL10F0',\n",
    "              'L10F5 Cell', 'V(microns/min)L10F5', 'V(microns/hour)L10F5', 'PersistenceL10F5',\n",
    "              'L10F10 Cell', 'V(microns/min)L10F10', 'V(microns/hour)L10F10', 'PersistenceL10F10',\n",
    "              'L10F30 Cell', 'V(microns/min)L10F30', 'V(microns/hour)L10F30', 'PersistenceL10F30']\n",
    "\n",
    "#renames columns to be more relevent\n",
    "\n",
    "import matplotlib.pyplot as plt\n",
    "\n",
    "assert type(data[['V(microns/min)F10L0']]) != str\n",
    "\n",
    "F10V = data[['V(microns/hour)F10L0', 'V(microns/hour)F10L5', 'V(microns/hour)F10L10','V(microns/hour)F10L30']]\n",
    "F10Vmean = F10V.mean(axis=0)\n",
    "LabelF10V = ('F10L0','F10L5','F10L10','F10L30')\n",
    "\n",
    "#establishes mean of the velocity data for all of the Fibronectin constants. LabelF10V will be the X axis in plots\n",
    "\n",
    "L10V=data[['V(microns/hour)L10F0','V(microns/hour)L10F5','V(microns/hour)L10F10', 'V(microns/hour)L10F30']]\n",
    "L10Vmean=L10V.mean(axis=0)\n",
    "LabelL10V = ('L10F0','L10F5','L10F10','L10F30')\n",
    "\n",
    "#repeats for Laminin constant data\n",
    "\n",
    "print(F10Vmean)\n",
    "print(L10Vmean)\n",
    "\n",
    "#displays the means of all of the velocity data\n",
    "\n",
    "assert type(L10Vmean) != str\n",
    "\n",
    "plt.bar(LabelF10V,F10Vmean, color='red')\n",
    "plt.bar(LabelL10V,L10Vmean, color='blue')\n",
    "plt.title('Increasing Concentrations of Laminin Increase Velocity in Fibronectin Background')\n",
    "plt.xlabel('ECM Concentration')\n",
    "plt.ylabel('Velocity(microns per hour)')\n",
    "plt.show()\n",
    "\n",
    "#creates a bar graph with two distinct colors, one for Fibronectin constants, the other for laminin constants\n",
    "\n",
    "F10P = data[['PersistenceF10L0', 'PersistenceF10L5', 'PersistenceF10L10','PersistenceF10L30']]\n",
    "F10Pmean = F10P.mean(axis=0)\n",
    "LabelF10P = ('F10L0','F10L5','F10L10','F10L30')\n",
    "\n",
    "#here, I can keep the same labels from the velocities. However, the values are now persistence averages \n",
    "#of Fibronectin constants\n",
    "\n",
    "L10P=data[['PersistenceL10F0','PersistenceL10F5','PersistenceL10F10','PersistenceL10F30']]\n",
    "L10Pmean=L10P.mean(axis=0)\n",
    "LabelL10P = ('L10F0','L10F5','L10F10','L10F30')\n",
    "\n",
    "#repeated persistence averages for laminin constants\n",
    "\n",
    "print(F10Pmean)\n",
    "print(L10Pmean)\n",
    "\n",
    "#display the means for the persistence measurements\n",
    "\n",
    "plt.bar(LabelF10P,F10Pmean, color='red')\n",
    "plt.bar(LabelL10P,L10Pmean, color='blue')\n",
    "plt.title('Combination of Fibronectin and Laminin can Increase Persistence')\n",
    "plt.xlabel('ECM Concentration')\n",
    "plt.ylabel('Persistence(d/T)')\n",
    "plt.show()\n",
    "\n",
    "#creates a bar graph for persistence, much like the bar graph for velocity\n",
    "\n",
    "FN10VvsL10Vboxplot = data.boxplot(column=['V(microns/hour)F10L0','V(microns/hour)F10L5','V(microns/hour)F10L10',\n",
    "                                          'V(microns/hour)F10L30', 'V(microns/hour)L10F0', 'V(microns/hour)L10F5',\n",
    "                                          'V(microns/hour)L10F10','V(microns/hour)L10F30'],grid=False, rot=45)\n",
    "plt.xlabel('ECM Concentration')\n",
    "plt.ylabel('Velocity(microns per hour)')\n",
    "plt.show()\n",
    "\n",
    "#this way, I can visually see all of the data and compare the experiments. I can also see the varience in the data \n",
    "#based on the quartiles and outliers"
   ]
  },
  {
   "cell_type": "code",
   "execution_count": null,
   "metadata": {},
   "outputs": [],
   "source": []
  }
 ],
 "metadata": {
  "kernelspec": {
   "display_name": "Python 3",
   "language": "python",
   "name": "python3"
  },
  "language_info": {
   "codemirror_mode": {
    "name": "ipython",
    "version": 3
   },
   "file_extension": ".py",
   "mimetype": "text/x-python",
   "name": "python",
   "nbconvert_exporter": "python",
   "pygments_lexer": "ipython3",
   "version": "3.7.3"
  }
 },
 "nbformat": 4,
 "nbformat_minor": 2
}
